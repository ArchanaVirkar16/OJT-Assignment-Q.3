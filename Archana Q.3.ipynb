{
 "cells": [
  {
   "cell_type": "markdown",
   "id": "214dc806",
   "metadata": {},
   "source": [
    "# Q3. Singular Value Decomposition (SVD):"
   ]
  },
  {
   "cell_type": "code",
   "execution_count": 5,
   "id": "17ccf933",
   "metadata": {},
   "outputs": [],
   "source": [
    "import numpy as np\n",
    "np.random.seed(55)\n",
    "A = np.random.randint(0, 10, size=(5, 5))"
   ]
  },
  {
   "cell_type": "code",
   "execution_count": 6,
   "id": "f4f3e45f",
   "metadata": {},
   "outputs": [
    {
     "name": "stdout",
     "output_type": "stream",
     "text": [
      "Matrix U:\n",
      "[[-0.5239559   0.29784396 -0.47058638 -0.56149959  0.31626866]\n",
      " [-0.35453368 -0.38207014  0.4237704  -0.5226714  -0.52493955]\n",
      " [-0.4517675   0.68920295  0.42259848  0.32959478 -0.18352992]\n",
      " [-0.35806032 -0.21104302 -0.60413615  0.43343748 -0.52383691]\n",
      " [-0.51717988 -0.49575349  0.23536599  0.33916375  0.56242711]]\n",
      "\n",
      "Matrix Sigma:\n",
      "[[26.46973072  0.          0.          0.          0.        ]\n",
      " [ 0.          8.73105475  0.          0.          0.        ]\n",
      " [ 0.          0.          6.52282787  0.          0.        ]\n",
      " [ 0.          0.          0.          3.27526987  0.        ]\n",
      " [ 0.          0.          0.          0.          0.920523  ]]\n",
      "\n",
      "Matrix V:\n",
      "[[-0.33154694  0.61829594 -0.22830395 -0.15465257 -0.65707431]\n",
      " [-0.50678559 -0.53416172 -0.48222877 -0.47356647  0.03209103]\n",
      " [-0.18430928  0.56525067 -0.03678458 -0.35402398  0.72099631]\n",
      " [-0.54921322  0.03662661 -0.21626038  0.78040118  0.20304872]\n",
      " [-0.54556386 -0.10738509  0.81682989 -0.13213025 -0.07847962]]\n"
     ]
    }
   ],
   "source": [
    "U,Sigma,V_transpose = np.linalg.svd(A)\n",
    "Sigma_mat = np.zeros_like(A, dtype=float)\n",
    "Sigma_mat[:min(A.shape[0], A.shape[1]), :min(A.shape[0], A.shape[1])] = np.diag(Sigma)\n",
    "print(\"Matrix U:\")\n",
    "print(U)\n",
    "print(\"\\nMatrix Sigma:\")\n",
    "print(Sigma_mat)\n",
    "print(\"\\nMatrix V:\")\n",
    "print(V_transpose.T)"
   ]
  },
  {
   "cell_type": "code",
   "execution_count": 7,
   "id": "7c4617e9",
   "metadata": {},
   "outputs": [
    {
     "name": "stdout",
     "output_type": "stream",
     "text": [
      "Verification that A equals the product of U, Sigma, and V:\n",
      "True\n"
     ]
    }
   ],
   "source": [
    "A_reconstructed = np.dot(U, np.dot(Sigma_mat, V_transpose))\n",
    "print(\"Verification that A equals the product of U, Sigma, and V:\")\n",
    "print(np.allclose(A, A_reconstructed))"
   ]
  }
 ],
 "metadata": {
  "kernelspec": {
   "display_name": "Python 3 (ipykernel)",
   "language": "python",
   "name": "python3"
  },
  "language_info": {
   "codemirror_mode": {
    "name": "ipython",
    "version": 3
   },
   "file_extension": ".py",
   "mimetype": "text/x-python",
   "name": "python",
   "nbconvert_exporter": "python",
   "pygments_lexer": "ipython3",
   "version": "3.11.5"
  }
 },
 "nbformat": 4,
 "nbformat_minor": 5
}
